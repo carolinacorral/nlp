{
 "cells": [
  {
   "cell_type": "markdown",
   "metadata": {},
   "source": [
    "# Detección de vocales"
   ]
  },
  {
   "cell_type": "markdown",
   "metadata": {},
   "source": [
    "Pre-procesamiento"
   ]
  },
  {
   "cell_type": "code",
   "execution_count": 14,
   "metadata": {},
   "outputs": [
    {
     "name": "stdout",
     "output_type": "stream",
     "text": [
      "Archivo: a_12.wav, Frecuencias Dominantes: [1545.83333333 1546.35416667 1546.875      1547.39583333 1547.91666667]\n",
      "Archivo: a_17.wav, Frecuencias Dominantes: [1577.60416667 1578.125      1578.64583333 1579.16666667 1579.6875    ]\n",
      "Archivo: a_2.wav, Frecuencias Dominantes: [1481.25       1481.77083333 1482.29166667 1482.8125     1483.33333333]\n",
      "Archivo: a_22.wav, Frecuencias Dominantes: [ 205.72916667 1026.04166667 1026.5625     1027.08333333 1027.60416667]\n",
      "Archivo: a_37.wav, Frecuencias Dominantes: [194.27083333 194.79166667 195.3125     195.83333333 196.35416667]\n",
      "Archivo: a_42.wav, Frecuencias Dominantes: [1018.22916667 1018.75       1019.27083333 1019.79166667 1020.3125    ]\n",
      "Archivo: a_47.wav, Frecuencias Dominantes: [1033.33333333 1033.85416667 1034.375      1034.89583333 1035.41666667]\n",
      "Archivo: a_52.wav, Frecuencias Dominantes: [192.1875     192.70833333 193.22916667 193.75       194.27083333]\n",
      "Archivo: a_7.wav, Frecuencias Dominantes: [1004.6875     1005.20833333 1005.72916667 1006.25       1006.77083333]\n",
      "Archivo: e_13.wav, Frecuencias Dominantes: [191.66666667 192.1875     192.70833333 193.22916667 193.75      ]\n",
      "Archivo: e_18.wav, Frecuencias Dominantes: [433.33333333 433.85416667 434.375      434.89583333 435.41666667]\n",
      "Archivo: e_23.wav, Frecuencias Dominantes: [386.45833333 386.97916667 387.5        388.02083333 435.41666667]\n",
      "Archivo: e_28.wav, Frecuencias Dominantes: [390.10416667 390.625      391.14583333 391.66666667 392.1875    ]\n",
      "Archivo: e_3.wav, Frecuencias Dominantes: [415.10416667 415.625      416.14583333 416.66666667 417.1875    ]\n",
      "Archivo: e_43.wav, Frecuencias Dominantes: [407.8125     408.33333333 408.85416667 409.375      409.89583333]\n",
      "Archivo: e_48.wav, Frecuencias Dominantes: [433.33333333 433.85416667 434.375      434.89583333 435.41666667]\n",
      "Archivo: e_53.wav, Frecuencias Dominantes: [418.75       419.27083333 419.79166667 420.3125     420.83333333]\n",
      "Archivo: e_57.wav, Frecuencias Dominantes: [435.9375     436.45833333 436.97916667 437.5        438.02083333]\n",
      "Archivo: e_58.wav, Frecuencias Dominantes: [406.25       406.77083333 407.29166667 407.8125     408.33333333]\n",
      "Archivo: e_59.wav, Frecuencias Dominantes: [415.10416667 415.625      416.14583333 416.66666667 417.1875    ]\n",
      "Archivo: e_8.wav, Frecuencias Dominantes: [406.25       406.77083333 407.29166667 407.8125     408.33333333]\n",
      "Archivo: i_14.wav, Frecuencias Dominantes: [232.8125     233.33333333 233.85416667 234.375      234.89583333]\n",
      "Archivo: i_19.wav, Frecuencias Dominantes: [221.875      222.39583333 222.91666667 223.4375     223.95833333]\n",
      "Archivo: i_24.wav, Frecuencias Dominantes: [213.02083333 213.54166667 214.0625     214.58333333 215.10416667]\n",
      "Archivo: i_29.wav, Frecuencias Dominantes: [213.02083333 213.54166667 214.0625     214.58333333 215.10416667]\n",
      "Archivo: i_34.wav, Frecuencias Dominantes: [214.58333333 232.29166667 232.8125     233.33333333 233.85416667]\n",
      "Archivo: i_39.wav, Frecuencias Dominantes: [213.02083333 213.54166667 214.0625     214.58333333 215.10416667]\n",
      "Archivo: i_4.wav, Frecuencias Dominantes: [212.5        213.02083333 213.54166667 214.0625     214.58333333]\n",
      "Archivo: i_44.wav, Frecuencias Dominantes: [231.77083333 232.29166667 232.8125     233.33333333 233.85416667]\n",
      "Archivo: i_49.wav, Frecuencias Dominantes: [220.83333333 221.35416667 221.875      222.39583333 222.91666667]\n",
      "Archivo: i_54.wav, Frecuencias Dominantes: [232.29166667 232.8125     233.33333333 233.85416667 234.375     ]\n",
      "Archivo: i_9.wav, Frecuencias Dominantes: [206.25       206.77083333 207.29166667 207.8125     208.33333333]\n",
      "Archivo: o_10.wav, Frecuencias Dominantes: [405.72916667 406.25       406.77083333 407.29166667 407.8125    ]\n",
      "Archivo: o_15.wav, Frecuencias Dominantes: [448.4375     448.95833333 449.47916667 450.         450.52083333]\n",
      "Archivo: o_20.wav, Frecuencias Dominantes: [206.25       206.77083333 207.29166667 207.8125     208.33333333]\n",
      "Archivo: o_25.wav, Frecuencias Dominantes: [401.04166667 401.5625     402.08333333 402.60416667 403.125     ]\n",
      "Archivo: o_30.wav, Frecuencias Dominantes: [407.29166667 407.8125     408.33333333 408.85416667 409.375     ]\n",
      "Archivo: o_35.wav, Frecuencias Dominantes: [416.14583333 416.66666667 417.1875     417.70833333 418.22916667]\n",
      "Archivo: o_40.wav, Frecuencias Dominantes: [409.375      409.89583333 410.41666667 410.9375     411.45833333]\n",
      "Archivo: o_45.wav, Frecuencias Dominantes: [427.60416667 428.125      428.64583333 429.16666667 429.6875    ]\n",
      "Archivo: o_5.wav, Frecuencias Dominantes: [402.60416667 403.125      403.64583333 406.25       406.77083333]\n",
      "Archivo: o_50.wav, Frecuencias Dominantes: [403.64583333 406.25       406.77083333 407.29166667 407.8125    ]\n",
      "Archivo: o_55.wav, Frecuencias Dominantes: [395.83333333 396.35416667 396.875      397.39583333 397.91666667]\n",
      "Archivo: u_11.wav, Frecuencias Dominantes: [419.79166667 420.3125     420.83333333 421.35416667 421.875     ]\n",
      "Archivo: u_16.wav, Frecuencias Dominantes: [417.1875     417.70833333 418.22916667 418.75       419.27083333]\n",
      "Archivo: u_21.wav, Frecuencias Dominantes: [454.16666667 454.6875     455.20833333 455.72916667 456.25      ]\n",
      "Archivo: u_26.wav, Frecuencias Dominantes: [463.54166667 464.0625     464.58333333 465.10416667 465.625     ]\n",
      "Archivo: u_31.wav, Frecuencias Dominantes: [450.52083333 451.04166667 451.5625     453.64583333 454.16666667]\n",
      "Archivo: u_36.wav, Frecuencias Dominantes: [416.14583333 416.66666667 417.1875     417.70833333 418.22916667]\n",
      "Archivo: u_56.wav, Frecuencias Dominantes: [420.83333333 421.35416667 421.875      422.39583333 422.91666667]\n",
      "Archivo: u_6.wav, Frecuencias Dominantes: [441.66666667 442.1875     442.70833333 443.22916667 443.75      ]\n",
      "Archivo: u_60.wav, Frecuencias Dominantes: [435.9375     436.45833333 436.97916667 437.5        438.02083333]\n",
      "Archivo: u_61.wav, Frecuencias Dominantes: [433.85416667 434.375      434.89583333 435.41666667 435.9375    ]\n",
      "Archivo: u_62.wav, Frecuencias Dominantes: [232.8125     233.33333333 463.54166667 464.0625     464.58333333]\n",
      "Muestras procesadas: [[1545.83333333 1546.35416667 1546.875      1547.39583333 1547.91666667]\n",
      " [1577.60416667 1578.125      1578.64583333 1579.16666667 1579.6875    ]\n",
      " [1481.25       1481.77083333 1482.29166667 1482.8125     1483.33333333]\n",
      " [ 205.72916667 1026.04166667 1026.5625     1027.08333333 1027.60416667]\n",
      " [ 194.27083333  194.79166667  195.3125      195.83333333  196.35416667]\n",
      " [1018.22916667 1018.75       1019.27083333 1019.79166667 1020.3125    ]\n",
      " [1033.33333333 1033.85416667 1034.375      1034.89583333 1035.41666667]\n",
      " [ 192.1875      192.70833333  193.22916667  193.75        194.27083333]\n",
      " [1004.6875     1005.20833333 1005.72916667 1006.25       1006.77083333]\n",
      " [ 191.66666667  192.1875      192.70833333  193.22916667  193.75      ]\n",
      " [ 433.33333333  433.85416667  434.375       434.89583333  435.41666667]\n",
      " [ 386.45833333  386.97916667  387.5         388.02083333  435.41666667]\n",
      " [ 390.10416667  390.625       391.14583333  391.66666667  392.1875    ]\n",
      " [ 415.10416667  415.625       416.14583333  416.66666667  417.1875    ]\n",
      " [ 407.8125      408.33333333  408.85416667  409.375       409.89583333]\n",
      " [ 433.33333333  433.85416667  434.375       434.89583333  435.41666667]\n",
      " [ 418.75        419.27083333  419.79166667  420.3125      420.83333333]\n",
      " [ 435.9375      436.45833333  436.97916667  437.5         438.02083333]\n",
      " [ 406.25        406.77083333  407.29166667  407.8125      408.33333333]\n",
      " [ 415.10416667  415.625       416.14583333  416.66666667  417.1875    ]\n",
      " [ 406.25        406.77083333  407.29166667  407.8125      408.33333333]\n",
      " [ 232.8125      233.33333333  233.85416667  234.375       234.89583333]\n",
      " [ 221.875       222.39583333  222.91666667  223.4375      223.95833333]\n",
      " [ 213.02083333  213.54166667  214.0625      214.58333333  215.10416667]\n",
      " [ 213.02083333  213.54166667  214.0625      214.58333333  215.10416667]\n",
      " [ 214.58333333  232.29166667  232.8125      233.33333333  233.85416667]\n",
      " [ 213.02083333  213.54166667  214.0625      214.58333333  215.10416667]\n",
      " [ 212.5         213.02083333  213.54166667  214.0625      214.58333333]\n",
      " [ 231.77083333  232.29166667  232.8125      233.33333333  233.85416667]\n",
      " [ 220.83333333  221.35416667  221.875       222.39583333  222.91666667]\n",
      " [ 232.29166667  232.8125      233.33333333  233.85416667  234.375     ]\n",
      " [ 206.25        206.77083333  207.29166667  207.8125      208.33333333]\n",
      " [ 405.72916667  406.25        406.77083333  407.29166667  407.8125    ]\n",
      " [ 448.4375      448.95833333  449.47916667  450.          450.52083333]\n",
      " [ 206.25        206.77083333  207.29166667  207.8125      208.33333333]\n",
      " [ 401.04166667  401.5625      402.08333333  402.60416667  403.125     ]\n",
      " [ 407.29166667  407.8125      408.33333333  408.85416667  409.375     ]\n",
      " [ 416.14583333  416.66666667  417.1875      417.70833333  418.22916667]\n",
      " [ 409.375       409.89583333  410.41666667  410.9375      411.45833333]\n",
      " [ 427.60416667  428.125       428.64583333  429.16666667  429.6875    ]\n",
      " [ 402.60416667  403.125       403.64583333  406.25        406.77083333]\n",
      " [ 403.64583333  406.25        406.77083333  407.29166667  407.8125    ]\n",
      " [ 395.83333333  396.35416667  396.875       397.39583333  397.91666667]\n",
      " [ 419.79166667  420.3125      420.83333333  421.35416667  421.875     ]\n",
      " [ 417.1875      417.70833333  418.22916667  418.75        419.27083333]\n",
      " [ 454.16666667  454.6875      455.20833333  455.72916667  456.25      ]\n",
      " [ 463.54166667  464.0625      464.58333333  465.10416667  465.625     ]\n",
      " [ 450.52083333  451.04166667  451.5625      453.64583333  454.16666667]\n",
      " [ 416.14583333  416.66666667  417.1875      417.70833333  418.22916667]\n",
      " [ 420.83333333  421.35416667  421.875       422.39583333  422.91666667]\n",
      " [ 441.66666667  442.1875      442.70833333  443.22916667  443.75      ]\n",
      " [ 435.9375      436.45833333  436.97916667  437.5         438.02083333]\n",
      " [ 433.85416667  434.375       434.89583333  435.41666667  435.9375    ]\n",
      " [ 232.8125      233.33333333  463.54166667  464.0625      464.58333333]]\n",
      "Etiquetas: ['A' 'A' 'A' 'A' 'A' 'A' 'A' 'A' 'A' 'E' 'E' 'E' 'E' 'E' 'E' 'E' 'E' 'E'\n",
      " 'E' 'E' 'E' 'I' 'I' 'I' 'I' 'I' 'I' 'I' 'I' 'I' 'I' 'I' 'O' 'O' 'O' 'O'\n",
      " 'O' 'O' 'O' 'O' 'O' 'O' 'O' 'U' 'U' 'U' 'U' 'U' 'U' 'U' 'U' 'U' 'U' 'U']\n"
     ]
    }
   ],
   "source": [
    "import os\n",
    "import numpy as np\n",
    "from scipy.io import wavfile\n",
    "import matplotlib.pyplot as plt\n",
    "from scipy.fft import fft, fftfreq\n",
    "\n",
    "# Configuración\n",
    "N_FRECUENCIAS = 5  # Para vocales, 5 funciona mejor\n",
    "CARPETA_MUESTRAS = \"RUTA\"\n",
    "\n",
    "def obtener_frecuencias_dominantes(audio, sr, n=N_FRECUENCIAS):\n",
    "    # Convertir a mono si es estéreo\n",
    "    if len(audio.shape) > 1:\n",
    "        audio = audio.mean(axis=1)\n",
    "    # Normalizar señal de audio\n",
    "    audio = audio / np.max(np.abs(audio))\n",
    "    # Aplicar FFT\n",
    "    fft_values = np.abs(fft(audio))\n",
    "    freqs = fftfreq(len(audio), d=1/sr)\n",
    "    # Filtrar frecuencias negativas\n",
    "    fft_values = fft_values[freqs > 0]\n",
    "    freqs = freqs[freqs > 0]\n",
    "    # Ignorar ruido bajo\n",
    "    umbral = np.max(fft_values) * 0.01  # 1% del valor máximo\n",
    "    fft_values[fft_values < umbral] = 0\n",
    "    # Obtener las n frecuencias más altas\n",
    "    indices = np.argsort(fft_values)[-n:]  # Índices de mayores valores\n",
    "    freqs_dominantes = freqs[indices]\n",
    "    # Ordenar por frecuencia\n",
    "    return np.sort(freqs_dominantes)\n",
    "\n",
    "# Leer todas las muestras\n",
    "muestras_procesadas = []\n",
    "etiquetas = []\n",
    "\n",
    "for archivo in os.listdir(CARPETA_MUESTRAS):\n",
    "    if archivo.endswith(\".wav\"):\n",
    "        try:\n",
    "            # Leer archivo de audio\n",
    "            sr, audio = wavfile.read(os.path.join(CARPETA_MUESTRAS, archivo))\n",
    "            freqs_dominantes = obtener_frecuencias_dominantes(audio, sr)\n",
    "            muestras_procesadas.append(freqs_dominantes)\n",
    "            etiquetas.append(archivo[0].upper())  # Suponiendo que la vocal está en el nombre\n",
    "            print(f\"Archivo: {archivo}, Frecuencias Dominantes: {freqs_dominantes}\")\n",
    "        except Exception as e:\n",
    "            print(f\"Error procesando el archivo {archivo}: {e}\")\n",
    "\n",
    "# Convertir a matriz\n",
    "muestras_procesadas = np.array(muestras_procesadas)\n",
    "etiquetas = np.array(etiquetas)\n",
    "\n",
    "print(\"Muestras procesadas:\", muestras_procesadas)\n",
    "print(\"Etiquetas:\", etiquetas)\n"
   ]
  },
  {
   "cell_type": "code",
   "execution_count": 15,
   "metadata": {},
   "outputs": [
    {
     "name": "stdout",
     "output_type": "stream",
     "text": [
      "dict_keys(['A', 'E', 'I', 'O', 'U'])\n",
      "dict_values([9, 12, 11, 11, 11])\n"
     ]
    }
   ],
   "source": [
    "from collections import Counter\n",
    "\n",
    "print(Counter(etiquetas).keys())\n",
    "print(Counter(etiquetas).values()) "
   ]
  },
  {
   "cell_type": "code",
   "execution_count": 16,
   "metadata": {},
   "outputs": [],
   "source": [
    "from sklearn.model_selection import train_test_split\n",
    "from sklearn.preprocessing import LabelEncoder, StandardScaler,MinMaxScaler\n",
    "import tensorflow as tf\n",
    "from tensorflow.keras import layers, models\n"
   ]
  },
  {
   "cell_type": "code",
   "execution_count": 17,
   "metadata": {},
   "outputs": [],
   "source": [
    "# scaling \n",
    "scaler = StandardScaler()\n",
    "scaler.fit(muestras_procesadas)\n",
    "muestras_normalizadas = scaler.transform(muestras_procesadas)\n",
    "\n",
    "encoder = LabelEncoder()\n",
    "etiquetas_codificadas = encoder.fit_transform(etiquetas)\n"
   ]
  },
  {
   "cell_type": "markdown",
   "metadata": {},
   "source": [
    "Red Neuronal"
   ]
  },
  {
   "cell_type": "code",
   "execution_count": null,
   "metadata": {},
   "outputs": [],
   "source": [
    "X_train, X_test, y_train, y_test = train_test_split(muestras_normalizadas, etiquetas_codificadas, test_size=0.1, random_state=42)\n",
    "\n",
    "# modelo de red neuronal\n",
    "model = models.Sequential([\n",
    "    layers.Dense(16, activation='relu', input_shape=(N_FRECUENCIAS,)),\n",
    "    layers.Dense(64, activation='relu'),\n",
    "    layers.Dense(64, activation='relu'),\n",
    "    layers.Dense(len(np.unique(y_train)), activation='softmax')\n",
    "])\n",
    "\n",
    "model.compile(optimizer='adam', loss='sparse_categorical_crossentropy', metrics=['accuracy'])\n",
    "\n",
    "# entrenamiento\n",
    "history = model.fit(X_train, y_train, epochs=200, batch_size=16, validation_split=0.1)\n",
    "\n",
    "# evaluar el modelo\n",
    "test_loss, test_acc = model.evaluate(X_test, y_test)\n",
    "print(f\"Precisión en pruebas: {test_acc}\")\n"
   ]
  },
  {
   "cell_type": "code",
   "execution_count": 464,
   "metadata": {},
   "outputs": [
    {
     "data": {
      "image/png": "[encoded data removed]",
      "text/plain": [
       "<Figure size 640x480 with 1 Axes>"
      ]
     },
     "metadata": {},
     "output_type": "display_data"
    }
   ],
   "source": [
    "plt.plot(history.history['accuracy'], label='Train Accuracy')\n",
    "plt.plot(history.history['val_accuracy'], label='Validation Accuracy')\n",
    "plt.xlabel('Epochs')\n",
    "plt.ylabel('Accuracy')\n",
    "plt.legend()\n",
    "plt.show()"
   ]
  },
  {
   "cell_type": "code",
   "execution_count": 44,
   "metadata": {},
   "outputs": [
    {
     "name": "stdout",
     "output_type": "stream",
     "text": [
      "\u001b[1m2/2\u001b[0m \u001b[32m━━━━━━━━━━━━━━━━━━━━\u001b[0m\u001b[37m\u001b[0m \u001b[1m0s\u001b[0m 0s/step  \n",
      "Precisión de entrenamiento por clase:\n",
      "Class 0: 75.00%\n",
      "Class 1: 50.00%\n",
      "Class 2: 100.00%\n",
      "Class 3: 63.64%\n",
      "Class 4: 62.50%\n"
     ]
    }
   ],
   "source": [
    "import numpy as np\n",
    "from sklearn.metrics import accuracy_score\n",
    "\n",
    "# obenter precisón de prueba por clase\n",
    "\n",
    "predictions = np.argmax(model.predict(X_train), axis=1)\n",
    "\n",
    "classes = np.unique(y_train)\n",
    "class_accuracies = {}\n",
    "\n",
    "for cls in classes:\n",
    "    cls_indices = np.where(y_train == cls)\n",
    "    cls_true = y_train[cls_indices]\n",
    "    cls_pred = predictions[cls_indices]\n",
    "    \n",
    "    # precisión de clase\n",
    "    class_accuracy = accuracy_score(cls_true, cls_pred)\n",
    "    class_accuracies[cls] = class_accuracy\n",
    "\n",
    "print(\"Precisión de entrenamiento por clase:\")\n",
    "for cls, acc in class_accuracies.items():\n",
    "    print(f\"Class {cls}: {acc:.2%}\")\n"
   ]
  },
  {
   "cell_type": "code",
   "execution_count": null,
   "metadata": {},
   "outputs": [],
   "source": [
    "import pickle\n",
    "# guardar modelo si es necesario\n",
    "filename = 'vocal_model.sav'\n",
    "pickle.dump(model, open(filename, 'wb'))\n"
   ]
  },
  {
   "cell_type": "code",
   "execution_count": null,
   "metadata": {},
   "outputs": [],
   "source": [
    "import pickle\n",
    "# cargar modelo\n",
    "filename = 'vocal_model.sav'\n",
    "model = pickle.load(open(filename, 'rb'))"
   ]
  },
  {
   "cell_type": "markdown",
   "metadata": {},
   "source": [
    "Pruebas"
   ]
  },
  {
   "cell_type": "code",
   "execution_count": 36,
   "metadata": {},
   "outputs": [
    {
     "name": "stdout",
     "output_type": "stream",
     "text": [
      "Grabando audio...\n",
      "Grabación terminada\n",
      "\u001b[1m1/1\u001b[0m \u001b[32m━━━━━━━━━━━━━━━━━━━━\u001b[0m\u001b[37m\u001b[0m \u001b[1m0s\u001b[0m 32ms/step\n",
      "4\n",
      "La vocal detectada es: ['U']\n"
     ]
    }
   ],
   "source": [
    "import numpy as np\n",
    "import pyaudio\n",
    "\n",
    "# antes de correr esto N_FRECUENCIAS y el scaler deben estar definidos correctamente\n",
    "\n",
    "\n",
    "def detectar_vocales(audio_data, sr):\n",
    "    freqs_dominantes = obtener_frecuencias_dominantes(audio_data, sr)\n",
    "\n",
    "\n",
    "    freqs_dominantes =  scaler.transform(freqs_dominantes.reshape(1,-1)) \n",
    "    #print(freqs_dominantes)\n",
    "    \n",
    "    prediccion = model.predict(freqs_dominantes)\n",
    "    prediccion = np.argmax(prediccion)\n",
    "    \n",
    "    vocal = encoder.inverse_transform([prediccion])\n",
    "    return vocal\n",
    "\n",
    "def grabar_audio(duracion_segundos=2, tasa_muestreo=8000, canales=1, chunk=1024):\n",
    "    FORMAT = pyaudio.paInt16\n",
    "\n",
    "    \n",
    "    audio = pyaudio.PyAudio()\n",
    "\n",
    "    stream = audio.open(format=FORMAT, channels=canales, rate=tasa_muestreo, input=True, frames_per_buffer=chunk)\n",
    "    print(\"Grabando audio...\")\n",
    "\n",
    "    frames = []\n",
    "    for _ in range(0, int(tasa_muestreo / chunk * duracion_segundos)):\n",
    "        data = stream.read(chunk)\n",
    "        frames.append(data)\n",
    "\n",
    "    print(\"Grabación terminada\")\n",
    "\n",
    "    stream.stop_stream()\n",
    "    stream.close()\n",
    "    audio.terminate()\n",
    "\n",
    "    audio_data = np.frombuffer(b''.join(frames), dtype=np.int16)\n",
    "    return audio_data, tasa_muestreo\n",
    "\n",
    "\n",
    "audio_data, sr = grabar_audio(duracion_segundos=2, tasa_muestreo=8000)\n",
    "vocal = detectar_vocales(audio_data, sr)\n",
    "print(f\"La vocal detectada es: {vocal}\")\n"
   ]
  },
  {
   "cell_type": "markdown",
   "metadata": {},
   "source": [
    "# Detección de palabras"
   ]
  },
  {
   "cell_type": "markdown",
   "metadata": {},
   "source": [
    "Pre-procesamiento"
   ]
  },
  {
   "cell_type": "code",
   "execution_count": null,
   "metadata": {},
   "outputs": [
    {
     "name": "stdout",
     "output_type": "stream",
     "text": [
      "Archivo: agua_11.wav, Frecuencias Dominantes: [368.75       369.27083333 369.79166667 370.3125     370.83333333\n",
      " 406.25       406.77083333 407.29166667 407.8125     408.33333333]\n",
      "Archivo: agua_12.wav, Frecuencias Dominantes: [ 371.35416667  371.875       372.39583333  372.91666667  373.4375\n",
      "  373.95833333  374.47916667  375.         1029.6875     1030.20833333]\n",
      "Archivo: agua_13.wav, Frecuencias Dominantes: [354.6875     355.20833333 355.72916667 356.25       356.77083333\n",
      " 357.29166667 357.8125     358.33333333 358.85416667 359.375     ]\n",
      "Archivo: agua_14.wav, Frecuencias Dominantes: [396.875      397.39583333 397.91666667 398.4375     398.95833333\n",
      " 399.47916667 400.         400.52083333 401.04166667 402.08333333]\n",
      "Archivo: agua_15.wav, Frecuencias Dominantes: [370.3125     370.83333333 371.35416667 371.875      372.39583333\n",
      " 376.04166667 376.5625     377.08333333 377.60416667 378.125     ]\n",
      "Archivo: agua_16.wav, Frecuencias Dominantes: [369.79166667 370.3125     370.83333333 371.35416667 371.875\n",
      " 372.39583333 372.91666667 373.4375     373.95833333 374.47916667]\n",
      "Archivo: agua_17.wav, Frecuencias Dominantes: [400.52083333 401.04166667 401.5625     402.08333333 402.60416667\n",
      " 403.125      403.64583333 404.16666667 404.6875     405.20833333]\n",
      "Archivo: agua_18.wav, Frecuencias Dominantes: [365.10416667 365.625      366.14583333 366.66666667 367.1875\n",
      " 367.70833333 368.22916667 368.75       369.27083333 369.79166667]\n",
      "Archivo: agua_19.wav, Frecuencias Dominantes: [394.27083333 394.79166667 395.3125     395.83333333 396.35416667\n",
      " 396.875      397.39583333 397.91666667 398.4375     398.95833333]\n",
      "Archivo: agua_20.wav, Frecuencias Dominantes: [193.22916667 193.75       194.27083333 194.79166667 195.3125\n",
      " 389.58333333 390.10416667 390.625      391.14583333 391.66666667]\n",
      "Archivo: libro_10.wav, Frecuencias Dominantes: [208.33333333 208.85416667 209.375      209.89583333 210.41666667\n",
      " 210.9375     211.45833333 419.79166667 420.3125     420.83333333]\n",
      "Archivo: libro_2.wav, Frecuencias Dominantes: [225.         225.52083333 226.04166667 230.72916667 231.25\n",
      " 231.77083333 232.29166667 232.8125     233.33333333 233.85416667]\n",
      "Archivo: libro_3.wav, Frecuencias Dominantes: [214.0625     214.58333333 215.10416667 434.375      434.89583333\n",
      " 435.41666667 435.9375     436.45833333 436.97916667 437.5       ]\n",
      "Archivo: libro_4.wav, Frecuencias Dominantes: [206.77083333 207.29166667 207.8125     208.33333333 419.79166667\n",
      " 420.3125     420.83333333 421.35416667 421.875      422.39583333]\n",
      "Archivo: libro_5.wav, Frecuencias Dominantes: [211.45833333 211.97916667 212.5        213.02083333 213.54166667\n",
      " 214.0625     214.58333333 215.10416667 426.04166667 426.5625    ]\n",
      "Archivo: libro_6.wav, Frecuencias Dominantes: [209.89583333 210.41666667 210.9375     211.45833333 211.97916667\n",
      " 426.04166667 426.5625     427.08333333 427.60416667 428.125     ]\n",
      "Archivo: libro_7.wav, Frecuencias Dominantes: [213.02083333 213.54166667 214.0625     214.58333333 215.10416667\n",
      " 215.625      429.6875     430.20833333 430.72916667 431.25      ]\n",
      "Archivo: libro_8.wav, Frecuencias Dominantes: [213.02083333 213.54166667 214.0625     214.58333333 215.10416667\n",
      " 215.625      216.14583333 216.66666667 435.9375     436.45833333]\n",
      "Archivo: libro_9.wav, Frecuencias Dominantes: [204.6875     205.20833333 205.72916667 211.97916667 212.5\n",
      " 213.02083333 213.54166667 214.0625     214.58333333 215.10416667]\n",
      "Muestras procesadas: [[ 368.75        369.27083333  369.79166667  370.3125      370.83333333\n",
      "   406.25        406.77083333  407.29166667  407.8125      408.33333333]\n",
      " [ 371.35416667  371.875       372.39583333  372.91666667  373.4375\n",
      "   373.95833333  374.47916667  375.         1029.6875     1030.20833333]\n",
      " [ 354.6875      355.20833333  355.72916667  356.25        356.77083333\n",
      "   357.29166667  357.8125      358.33333333  358.85416667  359.375     ]\n",
      " [ 396.875       397.39583333  397.91666667  398.4375      398.95833333\n",
      "   399.47916667  400.          400.52083333  401.04166667  402.08333333]\n",
      " [ 370.3125      370.83333333  371.35416667  371.875       372.39583333\n",
      "   376.04166667  376.5625      377.08333333  377.60416667  378.125     ]\n",
      " [ 369.79166667  370.3125      370.83333333  371.35416667  371.875\n",
      "   372.39583333  372.91666667  373.4375      373.95833333  374.47916667]\n",
      " [ 400.52083333  401.04166667  401.5625      402.08333333  402.60416667\n",
      "   403.125       403.64583333  404.16666667  404.6875      405.20833333]\n",
      " [ 365.10416667  365.625       366.14583333  366.66666667  367.1875\n",
      "   367.70833333  368.22916667  368.75        369.27083333  369.79166667]\n",
      " [ 394.27083333  394.79166667  395.3125      395.83333333  396.35416667\n",
      "   396.875       397.39583333  397.91666667  398.4375      398.95833333]\n",
      " [ 193.22916667  193.75        194.27083333  194.79166667  195.3125\n",
      "   389.58333333  390.10416667  390.625       391.14583333  391.66666667]\n",
      " [ 208.33333333  208.85416667  209.375       209.89583333  210.41666667\n",
      "   210.9375      211.45833333  419.79166667  420.3125      420.83333333]\n",
      " [ 225.          225.52083333  226.04166667  230.72916667  231.25\n",
      "   231.77083333  232.29166667  232.8125      233.33333333  233.85416667]\n",
      " [ 214.0625      214.58333333  215.10416667  434.375       434.89583333\n",
      "   435.41666667  435.9375      436.45833333  436.97916667  437.5       ]\n",
      " [ 206.77083333  207.29166667  207.8125      208.33333333  419.79166667\n",
      "   420.3125      420.83333333  421.35416667  421.875       422.39583333]\n",
      " [ 211.45833333  211.97916667  212.5         213.02083333  213.54166667\n",
      "   214.0625      214.58333333  215.10416667  426.04166667  426.5625    ]\n",
      " [ 209.89583333  210.41666667  210.9375      211.45833333  211.97916667\n",
      "   426.04166667  426.5625      427.08333333  427.60416667  428.125     ]\n",
      " [ 213.02083333  213.54166667  214.0625      214.58333333  215.10416667\n",
      "   215.625       429.6875      430.20833333  430.72916667  431.25      ]\n",
      " [ 213.02083333  213.54166667  214.0625      214.58333333  215.10416667\n",
      "   215.625       216.14583333  216.66666667  435.9375      436.45833333]\n",
      " [ 204.6875      205.20833333  205.72916667  211.97916667  212.5\n",
      "   213.02083333  213.54166667  214.0625      214.58333333  215.10416667]]\n",
      "Etiquetas: ['agua', 'agua', 'agua', 'agua', 'agua', 'agua', 'agua', 'agua', 'agua', 'agua', 'libro', 'libro', 'libro', 'libro', 'libro', 'libro', 'libro', 'libro', 'libro']\n"
     ]
    }
   ],
   "source": [
    "N_FRECUENCIAS = 10  # para palabras, 10 funciona mejor\n",
    "CARPETA_MUESTRAS = \"RUTA\"\n",
    "\n",
    "def obtener_frecuencias_dominantes(audio, sr, n=N_FRECUENCIAS):\n",
    "    # Convertir a mono si es estéreo\n",
    "    if len(audio.shape) > 1:\n",
    "        audio = audio.mean(axis=1)\n",
    "    # Normalizar señal de audio\n",
    "    audio = audio / np.max(np.abs(audio))\n",
    "    # Aplicar FFT\n",
    "    fft_values = np.abs(fft(audio))\n",
    "    freqs = fftfreq(len(audio), d=1/sr)\n",
    "    # Filtrar frecuencias negativas\n",
    "    fft_values = fft_values[freqs > 0]\n",
    "    freqs = freqs[freqs > 0]\n",
    "    # Ignorar ruido bajo\n",
    "    umbral = np.max(fft_values) * 0.01  # 1% del valor máximo\n",
    "    fft_values[fft_values < umbral] = 0\n",
    "    # Obtener las n frecuencias más altas\n",
    "    indices = np.argsort(fft_values)[-n:]  # Índices de mayores valores\n",
    "    freqs_dominantes = freqs[indices]\n",
    "    # Ordenar por frecuencia\n",
    "    return np.sort(freqs_dominantes)\n",
    "\n",
    "# Leer todas las muestras\n",
    "muestras_procesadas = []\n",
    "etiquetas = []\n",
    "\n",
    "for archivo in os.listdir(CARPETA_MUESTRAS):\n",
    "    if archivo.endswith(\".wav\"):\n",
    "        try:\n",
    "            # Leer archivo de audio\n",
    "            sr, audio = wavfile.read(os.path.join(CARPETA_MUESTRAS, archivo))\n",
    "            freqs_dominantes = obtener_frecuencias_dominantes(audio, sr)\n",
    "            muestras_procesadas.append(freqs_dominantes)\n",
    "            etiquetas.append(archivo[0].upper())  # l si es libro a si es agua\n",
    "            print(f\"Archivo: {archivo}, Frecuencias Dominantes: {freqs_dominantes}\")\n",
    "        except Exception as e:\n",
    "            print(f\"Error procesando el archivo {archivo}: {e}\")\n",
    "\n",
    "# Convertir a matriz\n",
    "muestras_procesadas = np.array(muestras_procesadas)\n",
    "etiquetas = np.array(etiquetas)\n",
    "etiquetas = [\"libro\" if e == \"L\" else \"agua\" for e in etiquetas]\n",
    "\n",
    "print(\"Muestras procesadas:\", muestras_procesadas)\n",
    "print(\"Etiquetas:\", etiquetas)"
   ]
  },
  {
   "cell_type": "code",
   "execution_count": null,
   "metadata": {},
   "outputs": [],
   "source": [
    "scaler = StandardScaler()\n",
    "scaler.fit(muestras_procesadas)\n",
    "muestras_normalizadas = scaler.transform(muestras_procesadas)\n",
    "\n",
    "encoder = LabelEncoder()\n",
    "etiquetas_codificadas = encoder.fit_transform(etiquetas)"
   ]
  },
  {
   "cell_type": "code",
   "execution_count": 9,
   "metadata": {},
   "outputs": [],
   "source": [
    "X_train, X_test, y_train, y_test = train_test_split(\n",
    "    muestras_normalizadas, etiquetas_codificadas, test_size=0.2, random_state=42\n",
    ")\n"
   ]
  },
  {
   "cell_type": "markdown",
   "metadata": {},
   "source": [
    "Modelo de regresión logística"
   ]
  },
  {
   "cell_type": "code",
   "execution_count": 10,
   "metadata": {},
   "outputs": [
    {
     "name": "stdout",
     "output_type": "stream",
     "text": [
      "              precision    recall  f1-score   support\n",
      "\n",
      "        agua       1.00      1.00      1.00         3\n",
      "       libro       1.00      1.00      1.00         1\n",
      "\n",
      "    accuracy                           1.00         4\n",
      "   macro avg       1.00      1.00      1.00         4\n",
      "weighted avg       1.00      1.00      1.00         4\n",
      "\n",
      "Mean Accuracy: 0.78\n"
     ]
    }
   ],
   "source": [
    "from sklearn.linear_model import LogisticRegression\n",
    "from sklearn.metrics import classification_report\n",
    "from sklearn.model_selection import cross_val_score\n",
    "\n",
    "# entrenar modelo\n",
    "word_model = LogisticRegression(solver='newton-cg' , max_iter=1000)\n",
    "word_model.fit(X_train, y_train)\n",
    "\n",
    "# predicción\n",
    "y_pred = word_model.predict(X_test)\n",
    "\n",
    "print(classification_report(y_test, y_pred, labels=np.unique(y_test), target_names=encoder.classes_))\n",
    "\n",
    "\n",
    "# validación cruzada\n",
    "scores = cross_val_score(word_model, muestras_normalizadas, etiquetas_codificadas, cv=5, scoring='accuracy')\n",
    "print(f\"Mean Accuracy: {scores.mean():.2f}\")\n"
   ]
  },
  {
   "cell_type": "code",
   "execution_count": 481,
   "metadata": {},
   "outputs": [],
   "source": [
    "import pickle\n",
    "# guardar modelo si es necesario\n",
    "filename = 'word_model.sav'\n",
    "pickle.dump(word_model, open(filename, 'wb'))"
   ]
  },
  {
   "cell_type": "code",
   "execution_count": 19,
   "metadata": {},
   "outputs": [],
   "source": [
    "import pickle\n",
    "# cargar modelo\n",
    "filename = 'word_model.sav'\n",
    "word_model = pickle.load(open(filename, 'rb'))"
   ]
  },
  {
   "cell_type": "markdown",
   "metadata": {},
   "source": [
    "Pruebas"
   ]
  },
  {
   "cell_type": "code",
   "execution_count": null,
   "metadata": {},
   "outputs": [
    {
     "name": "stdout",
     "output_type": "stream",
     "text": [
      "Grabando audio...\n",
      "Grabación terminada\n",
      "La palabra detectada es: ['agua']\n"
     ]
    }
   ],
   "source": [
    "import numpy as np\n",
    "import pyaudio\n",
    "\n",
    "# antes de correr esto N_FRECUENCIAS y el scaler deben estar definidos correctamente\n",
    "\n",
    "def detectar_palabras(audio_data, sr):\n",
    "    freqs_dominantes = obtener_frecuencias_dominantes(audio_data, sr)\n",
    "\n",
    "\n",
    "    freqs_dominantes =  scaler.transform(freqs_dominantes.reshape(1,-1)) \n",
    "    \n",
    "    prediccion = word_model.predict(freqs_dominantes)\n",
    "    palabra = encoder.inverse_transform(prediccion)\n",
    "    return palabra\n",
    "\n",
    "def grabar_audio(duracion_segundos=2, tasa_muestreo=8000, canales=1, chunk=1024):\n",
    "    FORMAT = pyaudio.paInt16\n",
    "\n",
    "    \n",
    "    audio = pyaudio.PyAudio()\n",
    "\n",
    "    stream = audio.open(format=FORMAT, channels=canales, rate=tasa_muestreo, input=True, frames_per_buffer=chunk)\n",
    "    print(\"Grabando audio...\")\n",
    "\n",
    "    frames = []\n",
    "    for _ in range(0, int(tasa_muestreo / chunk * duracion_segundos)):\n",
    "        data = stream.read(chunk)\n",
    "        frames.append(data)\n",
    "\n",
    "    print(\"Grabación terminada\")\n",
    "\n",
    "    stream.stop_stream()\n",
    "    stream.close()\n",
    "    audio.terminate()\n",
    "\n",
    "    audio_data = np.frombuffer(b''.join(frames), dtype=np.int16)\n",
    "    return audio_data, tasa_muestreo\n",
    "\n",
    "audio_data, sr = grabar_audio(duracion_segundos=2, tasa_muestreo=8000)\n",
    "palabra = detectar_palabras(audio_data, sr)\n",
    "print(f\"La palabra detectada es: {palabra}\")\n"
   ]
  }
 ],
 "metadata": {
  "kernelspec": {
   "display_name": "base",
   "language": "python",
   "name": "python3"
  },
  "language_info": {
   "codemirror_mode": {
    "name": "ipython",
    "version": 3
   },
   "file_extension": ".py",
   "mimetype": "text/x-python",
   "name": "python",
   "nbconvert_exporter": "python",
   "pygments_lexer": "ipython3",
   "version": "3.10.9"
  }
 },
 "nbformat": 4,
 "nbformat_minor": 2
}
